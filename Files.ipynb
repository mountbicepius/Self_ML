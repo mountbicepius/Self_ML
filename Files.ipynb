{
 "cells": [
  {
   "cell_type": "markdown",
   "metadata": {},
   "source": [
    "File"
   ]
  },
  {
   "cell_type": "code",
   "execution_count": 17,
   "metadata": {},
   "outputs": [],
   "source": [
    "# Python program for writing to file\n",
    " \n",
    " \n",
    "file = open('MCA2021.txt', 'w')\n",
    " \n",
    "# Data to be written\n",
    "data ='Trying to write something in file, today at 12:44 hrs'\n",
    " \n",
    "# Code to writing to file\n",
    "file.write(data)\n",
    " \n",
    "# Closing file\n",
    "file.close()"
   ]
  },
  {
   "cell_type": "code",
   "execution_count": 19,
   "metadata": {},
   "outputs": [
    {
     "name": "stdout",
     "output_type": "stream",
     "text": [
      "Enter some Data:  RCCIIT, MCA\n"
     ]
    }
   ],
   "source": [
    "# Python program for write user input data \n",
    " \n",
    " \n",
    "file = open('MCA2021.txt', 'w')\n",
    " \n",
    "# Input from user \n",
    "data = input (\"Enter some Data:  \")\n",
    " \n",
    "# Code to writing to file\n",
    "file.write(data)\n",
    " \n",
    "# Closing file\n",
    "file.close()"
   ]
  },
  {
   "cell_type": "code",
   "execution_count": null,
   "metadata": {},
   "outputs": [],
   "source": []
  },
  {
   "cell_type": "code",
   "execution_count": 21,
   "metadata": {},
   "outputs": [
    {
     "name": "stdout",
     "output_type": "stream",
     "text": [
      "The sum is: 16\n"
     ]
    }
   ],
   "source": [
    "# Python program for reading numbers from file and find sum of digits, file may contain character \n",
    " \n",
    " \n",
    "h = open('MCA2021.txt', 'r')\n",
    " \n",
    "# Reading from the file\n",
    "content = h.readlines()\n",
    " \n",
    "# Variable for storing the sum\n",
    "a = 0\n",
    " \n",
    "# Iterating through the content Of the file\n",
    "for line in content:\n",
    "     \n",
    "    for i in line:\n",
    "         \n",
    "        # Checking for the digit in the string\n",
    "        if i.isdigit() == True:\n",
    "             \n",
    "            a += int(i)\n",
    " \n",
    "print(\"The sum is:\", a)"
   ]
  },
  {
   "cell_type": "code",
   "execution_count": null,
   "metadata": {},
   "outputs": [],
   "source": []
  },
  {
   "cell_type": "code",
   "execution_count": 22,
   "metadata": {},
   "outputs": [],
   "source": [
    "# Reading words from file and sort\n",
    "def sorting(filename):\n",
    "  infile = open(filename)\n",
    "  words = []\n",
    "  for line in infile:\n",
    "    temp = line.split()\n",
    "    for i in temp:\n",
    "      words.append(i)\n",
    "  infile.close()\n",
    "  words.sort()\n",
    "  outfile = open(\"sample_output.txt\", \"w\")\n",
    "  for i in words:\n",
    "    outfile.writelines(i)\n",
    "    outfile.writelines(\" \")\n",
    "  outfile.close()\n",
    "\n",
    "sorting(\"sample.txt\")"
   ]
  },
  {
   "cell_type": "code",
   "execution_count": 23,
   "metadata": {},
   "outputs": [
    {
     "name": "stdout",
     "output_type": "stream",
     "text": [
      "1 3 4 7 4 1 99 44 22 66 444"
     ]
    }
   ],
   "source": [
    "with open('sort.txt', 'r') as r:\n",
    "    for line in sorted(r):\n",
    "        print(line, end='')"
   ]
  },
  {
   "cell_type": "code",
   "execution_count": 24,
   "metadata": {},
   "outputs": [
    {
     "name": "stdout",
     "output_type": "stream",
     "text": [
      "Number of words in text file : 11\n"
     ]
    }
   ],
   "source": [
    "# Count words\n",
    "file = open(\"sort.txt\", \"rt\")\n",
    "data = file.read()\n",
    "words = data.split()\n",
    "print('Number of words in text file :', len(words))"
   ]
  },
  {
   "cell_type": "code",
   "execution_count": 25,
   "metadata": {},
   "outputs": [
    {
     "name": "stdout",
     "output_type": "stream",
     "text": [
      "1 3 4 7 4 1 99 44 22 66 444\n",
      "['1', '1', '22', '3', '4', '4', '44', '444', '66', '7', '99']\n"
     ]
    }
   ],
   "source": [
    "my_file = open(\"sort.txt\", \"r\")\n",
    "\n",
    "content = my_file.read()\n",
    "print(content)\n",
    "content1=content.split()\n",
    "content1.sort()\n",
    "print(content1)"
   ]
  },
  {
   "cell_type": "code",
   "execution_count": 26,
   "metadata": {},
   "outputs": [
    {
     "name": "stdout",
     "output_type": "stream",
     "text": [
      "[1, 1, 3, 4, 4, 7, 22, 44, 66, 99, 444]\n"
     ]
    }
   ],
   "source": [
    "\n",
    "my_file = open(\"sort.txt\", \"r\")\n",
    "content = my_file.read()\n",
    "content1=content.split()\n",
    "integer_map = map(int, content1)\n",
    "integer_list = list(integer_map)\n",
    "integer_list.sort()\n",
    "\n",
    "print(integer_list)"
   ]
  },
  {
   "cell_type": "code",
   "execution_count": null,
   "metadata": {},
   "outputs": [],
   "source": []
  }
 ],
 "metadata": {
  "kernelspec": {
   "display_name": "Python 3",
   "language": "python",
   "name": "python3"
  },
  "language_info": {
   "codemirror_mode": {
    "name": "ipython",
    "version": 3
   },
   "file_extension": ".py",
   "mimetype": "text/x-python",
   "name": "python",
   "nbconvert_exporter": "python",
   "pygments_lexer": "ipython3",
   "version": "3.8.5"
  }
 },
 "nbformat": 4,
 "nbformat_minor": 4
}
